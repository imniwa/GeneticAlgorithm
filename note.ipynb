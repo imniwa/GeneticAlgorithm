{
 "cells": [
  {
   "attachments": {},
   "cell_type": "markdown",
   "metadata": {},
   "source": [
    "# Import Library"
   ]
  },
  {
   "cell_type": "code",
   "execution_count": 17,
   "metadata": {},
   "outputs": [],
   "source": [
    "# Library\n",
    "import random\n",
    "import pandas as pd\n",
    "import numpy as np\n",
    "\n",
    "from tqdm import tqdm\n",
    "import matplotlib.pyplot as plt"
   ]
  },
  {
   "cell_type": "code",
   "execution_count": 2,
   "metadata": {},
   "outputs": [],
   "source": [
    "import warnings\n",
    "warnings.filterwarnings('ignore')"
   ]
  },
  {
   "attachments": {},
   "cell_type": "markdown",
   "metadata": {},
   "source": [
    "## Kumpulan Fungsi"
   ]
  },
  {
   "cell_type": "code",
   "execution_count": 3,
   "metadata": {},
   "outputs": [],
   "source": [
    "import math\n",
    "\n",
    "def haversine(lat1:int|float, lon1:int|float, lat2:int|float, lon2:int|float):\n",
    "    R = 6372.8  # Radius Bumi\n",
    "    d_lat = math.radians(lat2 - lat1)\n",
    "    d_lon = math.radians(lon2 - lon1)\n",
    "    lat1 = math.radians(lat1)\n",
    "    lat2 = math.radians(lat2)\n",
    "    a = math.sin(d_lat / 2)**2 + math.cos(lat1) * math.cos(lat2) * math.sin(d_lon / 2)**2\n",
    "    c = 2 * math.asin(math.sqrt(a))\n",
    "    distance = R * c\n",
    "    return distance"
   ]
  },
  {
   "attachments": {},
   "cell_type": "markdown",
   "metadata": {},
   "source": [
    "populasi"
   ]
  },
  {
   "cell_type": "code",
   "execution_count": 4,
   "metadata": {},
   "outputs": [],
   "source": [
    "def generate_populasi(guru:pd.DataFrame, sekolah:pd.DataFrame, jarak:pd.DataFrame, num_kromosom:int = 10):\n",
    "    generated = []\n",
    "    for _ in (pbar := tqdm(range(num_kromosom))):\n",
    "        pbar.set_description(f\"generate populasi\")\n",
    "        guru = guru.sample(frac=1) # Mengacak urutan data\n",
    "        temp = [[_ for _ in range(3)] for _ in range(len(guru))] # Penyimpanan sementara\n",
    "\n",
    "        i_guru = 0\n",
    "        for i,x in enumerate(sekolah.values):\n",
    "            for _ in range(6): # Membuat sebanyak 6 rombongan belajar\n",
    "                id_sekolah  = x[0]\n",
    "                id_guru     = guru.values[i_guru][0]\n",
    "                \n",
    "                temp[i_guru][0] = x[0]\n",
    "                temp[i_guru][1] = id_guru\n",
    "                temp[i_guru][2] = jarak.loc[(jarak[\"ID_GURU\"] == id_guru) & (jarak[\"ID_SEKOLAH\"] == id_sekolah),\"JARAK\"].iloc[0]\n",
    "                \n",
    "                i_guru += 1\n",
    "\n",
    "        generated.append(pd.DataFrame(temp,columns=[\"id_sekolah\",\"id_guru\",\"jarak\"]))\n",
    "    \n",
    "    return generated\n",
    "    "
   ]
  },
  {
   "attachments": {},
   "cell_type": "markdown",
   "metadata": {},
   "source": [
    "Fitness"
   ]
  },
  {
   "cell_type": "code",
   "execution_count": 5,
   "metadata": {},
   "outputs": [],
   "source": [
    "def generate_fitness(kromosom:pd.DataFrame):\n",
    "    generated = np.zeros((len(kromosom),2))\n",
    "    for i,x in enumerate(kromosom):\n",
    "        generated[i][0] = x.iloc[:,2].sum()\n",
    "    generated[:,1] = generated[:,0] - (1.5 * generated[:,0].max())\n",
    "    return pd.DataFrame(generated,columns=['jarak','fitness'])"
   ]
  },
  {
   "attachments": {},
   "cell_type": "markdown",
   "metadata": {},
   "source": [
    "roulette wheel"
   ]
  },
  {
   "cell_type": "code",
   "execution_count": 6,
   "metadata": {},
   "outputs": [],
   "source": [
    "def roulette_wheel(kromosom:pd.DataFrame,fitness:pd.DataFrame,max_iteration:int=100):\n",
    "    fitness['prob_selection'] = fitness['fitness']/fitness['fitness'].sum()\n",
    "    probability = np.cumsum(fitness['prob_selection'])  \n",
    "    random_value = [random.random() for _ in range(max_iteration)]\n",
    "\n",
    "    selected = []\n",
    "    for rV in random_value:\n",
    "        for i in  range(len(probability)):\n",
    "            if rV < probability[i]:\n",
    "                selected.append(kromosom[i])\n",
    "                break\n",
    "\n",
    "    return selected\n"
   ]
  },
  {
   "attachments": {},
   "cell_type": "markdown",
   "metadata": {},
   "source": [
    "crossover"
   ]
  },
  {
   "cell_type": "code",
   "execution_count": 7,
   "metadata": {},
   "outputs": [],
   "source": [
    "def crossover(parent1:pd.DataFrame,parent2:pd.DataFrame, point = random.randint(0, 635)):\n",
    "    child1, child2 = parent1.copy(), parent2.copy()\n",
    "    child1_left, child1_right = child1.values[:point], child1.values[point:]\n",
    "    child2_left, child2_right = child2.values[:point], child2.values[point:]\n",
    "    child1[:] = np.concatenate((child1_left, child2_right))\n",
    "    child2[:] = np.concatenate((child1_right, child2_left))\n",
    "    return child1, child2"
   ]
  },
  {
   "attachments": {},
   "cell_type": "markdown",
   "metadata": {},
   "source": [
    "mutasi"
   ]
  },
  {
   "cell_type": "code",
   "execution_count": 60,
   "metadata": {},
   "outputs": [],
   "source": [
    "def mutasi(kromosom:pd.DataFrame, type:str = 'insert'):\n",
    "    type = type.lower()\n",
    "    mutan = kromosom.copy()\n",
    "    random_idx = random.sample(range(0, len(kromosom)-1),2)\n",
    "    \n",
    "    if type is 'insert':\n",
    "        value = mutan.values[random_idx[0]]\n",
    "        mutan_ = np.delete(mutan.values, random_idx[0], axis=0)\n",
    "        mutan_ = np.insert(mutan_, random_idx[1], value, axis=0)\n",
    "        mutan[:] = mutan_\n",
    "\n",
    "    if type is 'swap':\n",
    "        data1, data2 = mutan.iloc[random_idx[0]], mutan.iloc[random_idx[1]]\n",
    "        mutan.iloc[random_idx[0]], mutan.iloc[random_idx[1]] = data2, data1\n",
    "        \n",
    "    return mutan"
   ]
  },
  {
   "attachments": {},
   "cell_type": "markdown",
   "metadata": {},
   "source": [
    "replace kromosom"
   ]
  },
  {
   "cell_type": "code",
   "execution_count": 9,
   "metadata": {},
   "outputs": [],
   "source": [
    "def replace_kromosom(kromosom:pd.DataFrame,fitness:pd.DataFrame,children:pd.DataFrame):\n",
    "    fitness_value = fitness.copy()\n",
    "    data = kromosom.copy()\n",
    "    child_copy = children.copy()\n",
    "\n",
    "    fit_sum = fitness_value['fitness'].sum()\n",
    "    fit_max = 1.5 * fitness_value['jarak'].max()\n",
    "    child_fit = pd.DataFrame()\n",
    "\n",
    "    for i in range(len(child_copy)):\n",
    "        child_fit = child_fit.append({'jarak': child_copy[i].T.sum(axis=1).iloc[2], \\\n",
    "        'fitness': child_copy[i].T.sum(axis=1).iloc[2] - fit_max}, ignore_index=True)\n",
    "    \n",
    "    for i in range(len(child_copy)):\n",
    "        index_max, max = fitness_value['jarak'].idxmax() ,fitness_value['jarak'].max()\n",
    "        new = child_fit['jarak'].iloc[i]\n",
    "        if new < max:\n",
    "            fitness_value.iloc[index_max,:-1] = child_fit.iloc[i]\n",
    "            data[index_max] = child_copy[i]\n",
    "\n",
    "    return fitness_value, data"
   ]
  },
  {
   "attachments": {},
   "cell_type": "markdown",
   "metadata": {},
   "source": [
    "genetic algorithm"
   ]
  },
  {
   "cell_type": "code",
   "execution_count": 10,
   "metadata": {},
   "outputs": [],
   "source": [
    "def genetic_algorithm(guru, sekolah, jarak, iterasi, n_kromosom, prob_mutasi):\n",
    "    populasi = generate_populasi(guru, sekolah, jarak, n_kromosom)\n",
    "    fitness = generate_fitness(populasi)\n",
    "\n",
    "    min = pd.DataFrame()\n",
    "    children = []\n",
    "\n",
    "    for i in (pbar := tqdm(range(iterasi))):\n",
    "        pbar.set_description(f\"genetic algorithm...{i % prob_mutasi}\")\n",
    "        if i % prob_mutasi == 0:\n",
    "            parent = roulette_wheel(populasi,fitness,2)\n",
    "\n",
    "            child1, child2 = crossover(parent[0],parent[1])\n",
    "\n",
    "            children = [*children, child1, child2]\n",
    "        else:\n",
    "            kromosom = roulette_wheel(populasi,fitness,1)[0]\n",
    "            mutan = mutasi(kromosom)\n",
    "            children.append(mutan)\n",
    "\n",
    "        \n",
    "        new_fit, new_data = replace_kromosom(populasi,fitness,children)\n",
    "        fitness, populasi = new_fit, new_data\n",
    "\n",
    "        id_min = fitness['fitness'].idxmin()\n",
    "        min = min.append(fitness.loc[id_min], ignore_index=True)\n",
    "\n",
    "        children.clear()\n",
    "\n",
    "    return min, kromosom\n"
   ]
  },
  {
   "attachments": {},
   "cell_type": "markdown",
   "metadata": {},
   "source": [
    "## Membaca Data"
   ]
  },
  {
   "cell_type": "code",
   "execution_count": 11,
   "metadata": {},
   "outputs": [],
   "source": [
    "data_sekolah = pd.read_excel('ds.xlsx')\n",
    "data_guru = pd.read_excel('dg.xlsx')"
   ]
  },
  {
   "cell_type": "code",
   "execution_count": 12,
   "metadata": {},
   "outputs": [
    {
     "data": {
      "text/html": [
       "<div>\n",
       "<style scoped>\n",
       "    .dataframe tbody tr th:only-of-type {\n",
       "        vertical-align: middle;\n",
       "    }\n",
       "\n",
       "    .dataframe tbody tr th {\n",
       "        vertical-align: top;\n",
       "    }\n",
       "\n",
       "    .dataframe thead th {\n",
       "        text-align: right;\n",
       "    }\n",
       "</style>\n",
       "<table border=\"1\" class=\"dataframe\">\n",
       "  <thead>\n",
       "    <tr style=\"text-align: right;\">\n",
       "      <th></th>\n",
       "      <th>id</th>\n",
       "      <th>nama</th>\n",
       "      <th>rombel</th>\n",
       "      <th>lats</th>\n",
       "      <th>longs</th>\n",
       "    </tr>\n",
       "  </thead>\n",
       "  <tbody>\n",
       "    <tr>\n",
       "      <th>0</th>\n",
       "      <td>45</td>\n",
       "      <td>SD NEGERI NGARGOGONDO</td>\n",
       "      <td>6</td>\n",
       "      <td>-7.6263</td>\n",
       "      <td>110.2094</td>\n",
       "    </tr>\n",
       "    <tr>\n",
       "      <th>1</th>\n",
       "      <td>48</td>\n",
       "      <td>SD NEGERI RINGINPUTIH 3</td>\n",
       "      <td>6</td>\n",
       "      <td>-7.5994</td>\n",
       "      <td>110.1963</td>\n",
       "    </tr>\n",
       "    <tr>\n",
       "      <th>2</th>\n",
       "      <td>51</td>\n",
       "      <td>SD NEGERI TANJUNGSARI</td>\n",
       "      <td>6</td>\n",
       "      <td>-7.6171</td>\n",
       "      <td>110.1974</td>\n",
       "    </tr>\n",
       "    <tr>\n",
       "      <th>3</th>\n",
       "      <td>56</td>\n",
       "      <td>SD NEGERI BENINGAN</td>\n",
       "      <td>6</td>\n",
       "      <td>-7.5154</td>\n",
       "      <td>110.2900</td>\n",
       "    </tr>\n",
       "    <tr>\n",
       "      <th>4</th>\n",
       "      <td>67</td>\n",
       "      <td>SD NEGERI PODOSOKO</td>\n",
       "      <td>6</td>\n",
       "      <td>-7.5183</td>\n",
       "      <td>110.2568</td>\n",
       "    </tr>\n",
       "    <tr>\n",
       "      <th>...</th>\n",
       "      <td>...</td>\n",
       "      <td>...</td>\n",
       "      <td>...</td>\n",
       "      <td>...</td>\n",
       "      <td>...</td>\n",
       "    </tr>\n",
       "    <tr>\n",
       "      <th>101</th>\n",
       "      <td>509</td>\n",
       "      <td>SDN MANGUNREJO</td>\n",
       "      <td>6</td>\n",
       "      <td>-7.4395</td>\n",
       "      <td>110.3089</td>\n",
       "    </tr>\n",
       "    <tr>\n",
       "      <th>102</th>\n",
       "      <td>528</td>\n",
       "      <td>SD NEGERI TEMANGGAL</td>\n",
       "      <td>6</td>\n",
       "      <td>-7.5285</td>\n",
       "      <td>110.1533</td>\n",
       "    </tr>\n",
       "    <tr>\n",
       "      <th>103</th>\n",
       "      <td>541</td>\n",
       "      <td>SD NEGERI KEMBANGKUNING 1</td>\n",
       "      <td>6</td>\n",
       "      <td>-7.4036</td>\n",
       "      <td>110.1305</td>\n",
       "    </tr>\n",
       "    <tr>\n",
       "      <th>104</th>\n",
       "      <td>551</td>\n",
       "      <td>SD NEGERI WINDUSARI 1</td>\n",
       "      <td>6</td>\n",
       "      <td>-7.4019</td>\n",
       "      <td>110.1647</td>\n",
       "    </tr>\n",
       "    <tr>\n",
       "      <th>105</th>\n",
       "      <td>552</td>\n",
       "      <td>SD NEGERI WINDUSARI 2</td>\n",
       "      <td>6</td>\n",
       "      <td>-7.4023</td>\n",
       "      <td>110.1423</td>\n",
       "    </tr>\n",
       "  </tbody>\n",
       "</table>\n",
       "<p>106 rows × 5 columns</p>\n",
       "</div>"
      ],
      "text/plain": [
       "      id                       nama  rombel    lats     longs\n",
       "0     45      SD NEGERI NGARGOGONDO       6 -7.6263  110.2094\n",
       "1     48    SD NEGERI RINGINPUTIH 3       6 -7.5994  110.1963\n",
       "2     51      SD NEGERI TANJUNGSARI       6 -7.6171  110.1974\n",
       "3     56         SD NEGERI BENINGAN       6 -7.5154  110.2900\n",
       "4     67         SD NEGERI PODOSOKO       6 -7.5183  110.2568\n",
       "..   ...                        ...     ...     ...       ...\n",
       "101  509             SDN MANGUNREJO       6 -7.4395  110.3089\n",
       "102  528        SD NEGERI TEMANGGAL       6 -7.5285  110.1533\n",
       "103  541  SD NEGERI KEMBANGKUNING 1       6 -7.4036  110.1305\n",
       "104  551      SD NEGERI WINDUSARI 1       6 -7.4019  110.1647\n",
       "105  552      SD NEGERI WINDUSARI 2       6 -7.4023  110.1423\n",
       "\n",
       "[106 rows x 5 columns]"
      ]
     },
     "execution_count": 12,
     "metadata": {},
     "output_type": "execute_result"
    }
   ],
   "source": [
    "data_sekolah"
   ]
  },
  {
   "attachments": {},
   "cell_type": "markdown",
   "metadata": {},
   "source": [
    "### Menyimpan data jarak antara guru dan sekolah menggunakan haversine"
   ]
  },
  {
   "cell_type": "code",
   "execution_count": 13,
   "metadata": {},
   "outputs": [],
   "source": [
    "kolom_jarak = [\"ID_GURU\",\"ID_SEKOLAH\",\"JARAK\"]\n",
    "data_jarak = []\n",
    "for i,x in enumerate(data_guru.values):\n",
    "  for j,y in enumerate(data_sekolah.values):\n",
    "    data_jarak.append([x[0],y[0],haversine(x[3],x[4],y[3],y[4])])\n",
    "data_jarak = pd.DataFrame(data_jarak,columns=kolom_jarak)\n",
    "data_jarak.to_csv('data_jarak.tsv',sep=\"\\t\",index=False)"
   ]
  },
  {
   "attachments": {},
   "cell_type": "markdown",
   "metadata": {},
   "source": [
    "### Implementasi Genetic Algorithm"
   ]
  },
  {
   "cell_type": "code",
   "execution_count": 96,
   "metadata": {},
   "outputs": [
    {
     "name": "stderr",
     "output_type": "stream",
     "text": [
      "generate populasi: 100%|██████████| 30/30 [00:56<00:00,  1.87s/it]\n",
      "genetic algorithm...1: 100%|██████████| 1000/1000 [00:43<00:00, 23.21it/s]\n"
     ]
    }
   ],
   "source": [
    "# Parameter Masukan\n",
    "N_KROMOSOM = 30\n",
    "MAX_ITERATION = 1000\n",
    "PROB_MUTATION = 2\n",
    "min, kromosom = genetic_algorithm(data_guru, data_sekolah, data_jarak, MAX_ITERATION, N_KROMOSOM, PROB_MUTATION)"
   ]
  },
  {
   "cell_type": "code",
   "execution_count": 97,
   "metadata": {},
   "outputs": [
    {
     "data": {
      "text/html": [
       "<div>\n",
       "<style scoped>\n",
       "    .dataframe tbody tr th:only-of-type {\n",
       "        vertical-align: middle;\n",
       "    }\n",
       "\n",
       "    .dataframe tbody tr th {\n",
       "        vertical-align: top;\n",
       "    }\n",
       "\n",
       "    .dataframe thead th {\n",
       "        text-align: right;\n",
       "    }\n",
       "</style>\n",
       "<table border=\"1\" class=\"dataframe\">\n",
       "  <thead>\n",
       "    <tr style=\"text-align: right;\">\n",
       "      <th></th>\n",
       "      <th>jarak</th>\n",
       "      <th>fitness</th>\n",
       "      <th>prob_selection</th>\n",
       "    </tr>\n",
       "  </thead>\n",
       "  <tbody>\n",
       "    <tr>\n",
       "      <th>0</th>\n",
       "      <td>12089.141144</td>\n",
       "      <td>-6935.332220</td>\n",
       "      <td>0.034676</td>\n",
       "    </tr>\n",
       "    <tr>\n",
       "      <th>1</th>\n",
       "      <td>12089.141144</td>\n",
       "      <td>-6935.332220</td>\n",
       "      <td>0.034629</td>\n",
       "    </tr>\n",
       "    <tr>\n",
       "      <th>2</th>\n",
       "      <td>12089.141144</td>\n",
       "      <td>-6935.332220</td>\n",
       "      <td>0.034571</td>\n",
       "    </tr>\n",
       "    <tr>\n",
       "      <th>3</th>\n",
       "      <td>12089.141144</td>\n",
       "      <td>-6935.332220</td>\n",
       "      <td>0.034554</td>\n",
       "    </tr>\n",
       "    <tr>\n",
       "      <th>4</th>\n",
       "      <td>12089.141144</td>\n",
       "      <td>-6935.332220</td>\n",
       "      <td>0.034524</td>\n",
       "    </tr>\n",
       "    <tr>\n",
       "      <th>...</th>\n",
       "      <td>...</td>\n",
       "      <td>...</td>\n",
       "      <td>...</td>\n",
       "    </tr>\n",
       "    <tr>\n",
       "      <th>995</th>\n",
       "      <td>9057.225113</td>\n",
       "      <td>-4939.322173</td>\n",
       "      <td>0.035236</td>\n",
       "    </tr>\n",
       "    <tr>\n",
       "      <th>996</th>\n",
       "      <td>9057.225113</td>\n",
       "      <td>-4939.322173</td>\n",
       "      <td>0.035236</td>\n",
       "    </tr>\n",
       "    <tr>\n",
       "      <th>997</th>\n",
       "      <td>9057.225113</td>\n",
       "      <td>-4939.322173</td>\n",
       "      <td>0.035236</td>\n",
       "    </tr>\n",
       "    <tr>\n",
       "      <th>998</th>\n",
       "      <td>9057.225113</td>\n",
       "      <td>-4939.322173</td>\n",
       "      <td>0.035236</td>\n",
       "    </tr>\n",
       "    <tr>\n",
       "      <th>999</th>\n",
       "      <td>9057.225113</td>\n",
       "      <td>-4939.322173</td>\n",
       "      <td>0.035236</td>\n",
       "    </tr>\n",
       "  </tbody>\n",
       "</table>\n",
       "<p>1000 rows × 3 columns</p>\n",
       "</div>"
      ],
      "text/plain": [
       "            jarak      fitness  prob_selection\n",
       "0    12089.141144 -6935.332220        0.034676\n",
       "1    12089.141144 -6935.332220        0.034629\n",
       "2    12089.141144 -6935.332220        0.034571\n",
       "3    12089.141144 -6935.332220        0.034554\n",
       "4    12089.141144 -6935.332220        0.034524\n",
       "..            ...          ...             ...\n",
       "995   9057.225113 -4939.322173        0.035236\n",
       "996   9057.225113 -4939.322173        0.035236\n",
       "997   9057.225113 -4939.322173        0.035236\n",
       "998   9057.225113 -4939.322173        0.035236\n",
       "999   9057.225113 -4939.322173        0.035236\n",
       "\n",
       "[1000 rows x 3 columns]"
      ]
     },
     "execution_count": 97,
     "metadata": {},
     "output_type": "execute_result"
    }
   ],
   "source": [
    "min"
   ]
  },
  {
   "cell_type": "code",
   "execution_count": 98,
   "metadata": {},
   "outputs": [
    {
     "data": {
      "text/plain": [
       "[<matplotlib.lines.Line2D at 0x7efc7ea8f520>]"
      ]
     },
     "execution_count": 98,
     "metadata": {},
     "output_type": "execute_result"
    },
    {
     "data": {
      "image/png": "[encoded data removed]",
      "text/plain": [
       "<Figure size 3000x1000 with 1 Axes>"
      ]
     },
     "metadata": {},
     "output_type": "display_data"
    }
   ],
   "source": [
    "plt.xlabel(\"Iterasi\")\n",
    "plt.ylabel(\"Jarak\")\n",
    "plt.gcf().set_size_inches((30,10))\n",
    "plt.plot(min['jarak'],marker='o')"
   ]
  }
 ],
 "metadata": {
  "kernelspec": {
   "display_name": "uni",
   "language": "python",
   "name": "python3"
  },
  "language_info": {
   "codemirror_mode": {
    "name": "ipython",
    "version": 3
   },
   "file_extension": ".py",
   "mimetype": "text/x-python",
   "name": "python",
   "nbconvert_exporter": "python",
   "pygments_lexer": "ipython3",
   "version": "3.10.9"
  },
  "orig_nbformat": 4
 },
 "nbformat": 4,
 "nbformat_minor": 2
}
